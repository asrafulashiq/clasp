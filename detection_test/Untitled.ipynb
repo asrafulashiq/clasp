{
 "cells": [
  {
   "cell_type": "markdown",
   "metadata": {},
   "source": [
    "## INTRODUCTION\n",
    "`file_path` is a csv file, each line of that file contains:\n",
    "\n",
    " 'file', 'camera', 'frame', 'id', 'class', 'x1', 'y1', 'x2', 'y2'\n",
    " \n",
    " ### Note: \n",
    "Currently, only results for odd-numbered frames are stored in the csv file. Hence, if you want to get localization results for frame 820, just use frame number 821 instead to get the results."
   ]
  },
  {
   "cell_type": "code",
   "execution_count": null,
   "metadata": {},
   "outputs": [],
   "source": [
    "import numpy as np\n",
    "import pandas as pd"
   ]
  },
  {
   "cell_type": "markdown",
   "metadata": {},
   "source": [
    "We can use `pandas` framework to work with the data."
   ]
  },
  {
   "cell_type": "code",
   "execution_count": 2,
   "metadata": {},
   "outputs": [],
   "source": [
    "file_path = \"/home/ash/Desktop/info.csv\""
   ]
  },
  {
   "cell_type": "code",
   "execution_count": 3,
   "metadata": {},
   "outputs": [],
   "source": [
    "df = pd.read_csv(file_path, sep=',', header=None, names=['file', 'camera', 'frame', 'id', \n",
    "                                                         'class', 'x1', 'y1', 'x2', 'y2'], index_col=None)"
   ]
  },
  {
   "cell_type": "code",
   "execution_count": 4,
   "metadata": {},
   "outputs": [
    {
     "data": {
      "text/html": [
       "<div>\n",
       "<style scoped>\n",
       "    .dataframe tbody tr th:only-of-type {\n",
       "        vertical-align: middle;\n",
       "    }\n",
       "\n",
       "    .dataframe tbody tr th {\n",
       "        vertical-align: top;\n",
       "    }\n",
       "\n",
       "    .dataframe thead th {\n",
       "        text-align: right;\n",
       "    }\n",
       "</style>\n",
       "<table border=\"1\" class=\"dataframe\">\n",
       "  <thead>\n",
       "    <tr style=\"text-align: right;\">\n",
       "      <th></th>\n",
       "      <th>file</th>\n",
       "      <th>camera</th>\n",
       "      <th>frame</th>\n",
       "      <th>id</th>\n",
       "      <th>class</th>\n",
       "      <th>x1</th>\n",
       "      <th>y1</th>\n",
       "      <th>x2</th>\n",
       "      <th>y2</th>\n",
       "    </tr>\n",
       "  </thead>\n",
       "  <tbody>\n",
       "    <tr>\n",
       "      <td>0</td>\n",
       "      <td>exp2</td>\n",
       "      <td>cam09</td>\n",
       "      <td>823</td>\n",
       "      <td>1</td>\n",
       "      <td>items</td>\n",
       "      <td>337</td>\n",
       "      <td>179</td>\n",
       "      <td>420</td>\n",
       "      <td>275</td>\n",
       "    </tr>\n",
       "    <tr>\n",
       "      <td>1</td>\n",
       "      <td>exp2</td>\n",
       "      <td>cam09</td>\n",
       "      <td>823</td>\n",
       "      <td>2</td>\n",
       "      <td>items</td>\n",
       "      <td>346</td>\n",
       "      <td>218</td>\n",
       "      <td>411</td>\n",
       "      <td>257</td>\n",
       "    </tr>\n",
       "    <tr>\n",
       "      <td>2</td>\n",
       "      <td>exp2</td>\n",
       "      <td>cam09</td>\n",
       "      <td>825</td>\n",
       "      <td>1</td>\n",
       "      <td>items</td>\n",
       "      <td>337</td>\n",
       "      <td>180</td>\n",
       "      <td>421</td>\n",
       "      <td>277</td>\n",
       "    </tr>\n",
       "    <tr>\n",
       "      <td>3</td>\n",
       "      <td>exp2</td>\n",
       "      <td>cam09</td>\n",
       "      <td>825</td>\n",
       "      <td>2</td>\n",
       "      <td>items</td>\n",
       "      <td>346</td>\n",
       "      <td>218</td>\n",
       "      <td>411</td>\n",
       "      <td>257</td>\n",
       "    </tr>\n",
       "    <tr>\n",
       "      <td>4</td>\n",
       "      <td>exp2</td>\n",
       "      <td>cam09</td>\n",
       "      <td>827</td>\n",
       "      <td>1</td>\n",
       "      <td>items</td>\n",
       "      <td>339</td>\n",
       "      <td>173</td>\n",
       "      <td>423</td>\n",
       "      <td>270</td>\n",
       "    </tr>\n",
       "  </tbody>\n",
       "</table>\n",
       "</div>"
      ],
      "text/plain": [
       "   file camera  frame  id  class   x1   y1   x2   y2\n",
       "0  exp2  cam09    823   1  items  337  179  420  275\n",
       "1  exp2  cam09    823   2  items  346  218  411  257\n",
       "2  exp2  cam09    825   1  items  337  180  421  277\n",
       "3  exp2  cam09    825   2  items  346  218  411  257\n",
       "4  exp2  cam09    827   1  items  339  173  423  270"
      ]
     },
     "execution_count": 4,
     "metadata": {},
     "output_type": "execute_result"
    }
   ],
   "source": [
    "df.head()"
   ]
  },
  {
   "cell_type": "code",
   "execution_count": 6,
   "metadata": {},
   "outputs": [],
   "source": [
    "# get all info for camera 9\n",
    "df_cam9 = df[df['camera'] == 'cam09']\n",
    "\n",
    "# get all info for camera 9\n",
    "df_cam11 = df[df['camera'] == 'cam11']"
   ]
  },
  {
   "cell_type": "markdown",
   "metadata": {},
   "source": [
    "We can get localization results for a particular frame number"
   ]
  },
  {
   "cell_type": "code",
   "execution_count": 15,
   "metadata": {},
   "outputs": [
    {
     "name": "stdout",
     "output_type": "stream",
     "text": [
      "   file camera  frame  id  class   x1   y1   x2   y2\n",
      "0  exp2  cam09    823   1  items  337  179  420  275\n",
      "1  exp2  cam09    823   2  items  346  218  411  257\n"
     ]
    }
   ],
   "source": [
    "# get info for frame 823\n",
    "info = df_cam9[df_cam9['frame'] == 823]\n",
    "print(info)"
   ]
  }
 ],
 "metadata": {
  "kernelspec": {
   "display_name": "Python 3",
   "language": "python",
   "name": "python3"
  },
  "language_info": {
   "codemirror_mode": {
    "name": "ipython",
    "version": 3
   },
   "file_extension": ".py",
   "mimetype": "text/x-python",
   "name": "python",
   "nbconvert_exporter": "python",
   "pygments_lexer": "ipython3",
   "version": "3.7.4"
  }
 },
 "nbformat": 4,
 "nbformat_minor": 4
}
